{
  "nbformat": 4,
  "nbformat_minor": 0,
  "metadata": {
    "colab": {
      "provenance": [],
      "authorship_tag": "ABX9TyMfoBkHTrtDuHAvTp9Ex5fL",
      "include_colab_link": true
    },
    "kernelspec": {
      "name": "python3",
      "display_name": "Python 3"
    },
    "language_info": {
      "name": "python"
    }
  },
  "cells": [
    {
      "cell_type": "markdown",
      "metadata": {
        "id": "view-in-github",
        "colab_type": "text"
      },
      "source": [
        "<a href=\"https://colab.research.google.com/github/wiwiaks/curso-taller-python/blob/main/Untitled1.ipynb\" target=\"_parent\"><img src=\"https://colab.research.google.com/assets/colab-badge.svg\" alt=\"Open In Colab\"/></a>"
      ]
    },
    {
      "cell_type": "code",
      "execution_count": 19,
      "metadata": {
        "id": "m7VgSHqPWvfa",
        "colab": {
          "base_uri": "https://localhost:8080/"
        },
        "outputId": "223dd67b-597e-4b38-91e3-997065f38d0a"
      },
      "outputs": [
        {
          "output_type": "stream",
          "name": "stdout",
          "text": [
            "1\n"
          ]
        }
      ],
      "source": [
        "x=1\n",
        "y=False\n",
        "if(y==True):\n",
        "  x=0\n",
        "try:\n",
        "  print(x)\n",
        "except:\n",
        "  print(\"error de x\")"
      ]
    }
  ]
}